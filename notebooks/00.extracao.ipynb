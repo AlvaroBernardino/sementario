{
 "cells": [
  {
   "cell_type": "code",
   "execution_count": 38,
   "id": "0321aaba",
   "metadata": {},
   "outputs": [],
   "source": [
    "import pandas as pd\n",
    "import sqlite3"
   ]
  },
  {
   "cell_type": "code",
   "execution_count": 39,
   "id": "df476b22",
   "metadata": {},
   "outputs": [],
   "source": [
    "## Definindo variáveis\n",
    "\n",
    "# Caminho pro banco\n",
    "DB_PATH = \"../data/bronze/sementario.db\"\n",
    "\n",
    "# ID da planilha pública no Google Sheets\n",
    "SHEET_ID = \"1m2wNsm5WzC0PaVPMELhi5flYXs4n2Ck5m0_JuQqI6tI\" # ID obtido no URL da planilha pública\n",
    "\n",
    "# Nomes das abas da planilha -> nomes das tabelas no banco\n",
    "ABAS = {\n",
    "    \"plantio\": \"Plantio\",\n",
    "    \"embalagem\": \"Embalagem\",\n",
    "    \"placa\": \"Placa\"\n",
    "}\n"
   ]
  },
  {
   "cell_type": "code",
   "execution_count": 40,
   "id": "95d470a2",
   "metadata": {},
   "outputs": [
    {
     "name": "stdout",
     "output_type": "stream",
     "text": [
      "⬇️ Lendo aba 'Plantio' para a tabela 'plantio'...\n",
      "✅ Dados de 'Plantio' salvos como 'plantio' com sucesso.\n",
      "⬇️ Lendo aba 'Embalagem' para a tabela 'embalagem'...\n",
      "✅ Dados de 'Embalagem' salvos como 'embalagem' com sucesso.\n",
      "⬇️ Lendo aba 'Placa' para a tabela 'placa'...\n",
      "✅ Dados de 'Placa' salvos como 'placa' com sucesso.\n",
      "Extração finalizada com sucesso.\n"
     ]
    }
   ],
   "source": [
    "# Conecta ao banco\n",
    "conn = sqlite3.connect(DB_PATH)\n",
    "\n",
    "# Faz a leitura de cada aba e salva como tabela\n",
    "for nome_tabela, nome_aba in ABAS.items():\n",
    "    url = f\"https://docs.google.com/spreadsheets/d/{SHEET_ID}/gviz/tq?tqx=out:csv&sheet={nome_aba}\"\n",
    "    print(f\"⬇️ Lendo aba '{nome_aba}' para a tabela '{nome_tabela}'...\")\n",
    "    try:\n",
    "        df = pd.read_csv(url)\n",
    "        df.to_sql(nome_tabela, conn, if_exists=\"replace\", index=False)\n",
    "        print(f\"✅ Dados de '{nome_aba}' salvos como '{nome_tabela}' com sucesso.\")\n",
    "    except Exception as e:\n",
    "        print(f\" Erro ao processar aba '{nome_aba}': {e}\")\n",
    "\n",
    "# Fecha a conexão com o banco\n",
    "conn.close()\n",
    "print(\"Extração finalizada com sucesso.\")"
   ]
  },
  {
   "cell_type": "code",
   "execution_count": 43,
   "id": "37cbbea6",
   "metadata": {},
   "outputs": [
    {
     "name": "stdout",
     "output_type": "stream",
     "text": [
      "  tipo_semente    marca  tempo_estimado_dias\n",
      "0       Alface     Isla                    5\n",
      "1       Rúcula  TopSeed                    7\n",
      "2       Tomate     Isla                   10\n",
      "3   Manjericão     Isla                    6\n",
      "4      Cenoura  TopSeed                   12\n"
     ]
    }
   ],
   "source": [
    "conn = sqlite3.connect(DB_PATH)\n",
    "print(pd.read_sql(\"SELECT * FROM embalagem\" , conn).head())"
   ]
  }
 ],
 "metadata": {
  "kernelspec": {
   "display_name": "Python 3",
   "language": "python",
   "name": "python3"
  },
  "language_info": {
   "codemirror_mode": {
    "name": "ipython",
    "version": 3
   },
   "file_extension": ".py",
   "mimetype": "text/x-python",
   "name": "python",
   "nbconvert_exporter": "python",
   "pygments_lexer": "ipython3",
   "version": "3.13.2"
  }
 },
 "nbformat": 4,
 "nbformat_minor": 5
}
